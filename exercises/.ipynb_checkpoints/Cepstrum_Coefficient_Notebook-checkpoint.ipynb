{
 "cells": [
  {
   "cell_type": "markdown",
   "metadata": {
    "id": "BlNvQeNtLcYh"
   },
   "source": [
    "# Cepstrum Coefficients"
   ]
  },
  {
   "cell_type": "markdown",
   "metadata": {
    "id": "u291_St-LcYm"
   },
   "source": [
    "In this session we will study homomorphic filtering with Python. Specifically,\n",
    "we will work with the cepstrum coefficients, for a file that contains  vowels"
   ]
  },
  {
   "cell_type": "markdown",
   "metadata": {
    "id": "ixznTpUyLcYm"
   },
   "source": [
    "# Exercises"
   ]
  },
  {
   "cell_type": "markdown",
   "metadata": {
    "id": "XRULZk37LcYm"
   },
   "source": [
    "A. Cepstrum Coefficients\n",
    "In this first part we will follow the steps to calculate the cepstrum:"
   ]
  },
  {
   "cell_type": "markdown",
   "metadata": {
    "id": "u43qLPagLcYn"
   },
   "source": [
    "\n",
    "\\begin{equation}\n",
    "c[n] = \\frac{1}{2\\pi} \\int\\limits_{-\\pi}^{\\pi}log|X(e^{j\\omega}|e^{j\\omega n}d\\omega\n",
    "\\end{equation}\n"
   ]
  },
  {
   "cell_type": "markdown",
   "metadata": {
    "id": "TpD4iXBSLcYn"
   },
   "source": [
    "\n",
    "and that, for each frame, we can summarize its calculation as:\n",
    "\n",
    "* Windowing of the speech segment\n",
    "* DFT + calculate the magnitude of the spectrum,\n",
    "* Logarithm + IDFT.\n",
    "\n",
    "Once the cepstrum coefficients are calculated, we can separate the part\n",
    "corresponding to the vocal tract (filter) from the impulse train (source). You can\n",
    "read an intuitive explanation in the following text:\n",
    "\n",
    "Alan V. Oppenheim, Speech Analysis-Synthesis System Based on Homomorphic Filtering, Journal\n",
    "of the Acoustic Society of America, Vol 45, No.2, 458-465, Feb. 1969"
   ]
  },
  {
   "cell_type": "code",
   "execution_count": null,
   "metadata": {
    "colab": {
     "base_uri": "https://localhost:8080/"
    },
    "id": "VB4QWfRfMSmu",
    "outputId": "0ebe1731-46ef-43db-f4f2-4551aba4297f"
   },
   "outputs": [
    {
     "name": "stdout",
     "output_type": "stream",
     "text": [
      "Cloning into 'sms-tools'...\n",
      "remote: Enumerating objects: 5526, done.\u001b[K\n",
      "remote: Total 5526 (delta 0), reused 0 (delta 0), pack-reused 5526\u001b[K\n",
      "Receiving objects: 100% (5526/5526), 260.64 MiB | 35.98 MiB/s, done.\n",
      "Resolving deltas: 100% (3302/3302), done.\n"
     ]
    }
   ],
   "source": [
    "# to use this notebook with colab uncomment the next line\n",
    "#!git clone https://github.com/MTG/sms-tools.git\n",
    "# and change the next line to sys.path.append('sms-tools/software/models/')\n",
    "import sys\n",
    "sys.path.append('sms-tools/software/models/')"
   ]
  },
  {
   "cell_type": "code",
   "execution_count": null,
   "metadata": {
    "id": "xN1ClTvTLcYn"
   },
   "outputs": [],
   "source": [
    "import sys\n",
    "import os\n",
    "import numpy as np\n",
    "import scipy\n",
    "from scipy.io.wavfile import read\n",
    "\n",
    "#sys.path.append('../software/models/')\n",
    "from utilFunctions import wavread, wavwrite\n",
    "from scipy.signal import get_window\n",
    "import matplotlib.pyplot as plt\n",
    "from scipy.signal import get_window\n",
    "from scipy.fftpack import fft, fftshift, ifft"
   ]
  },
  {
   "cell_type": "markdown",
   "metadata": {
    "id": "aGHHzsLgLcYo"
   },
   "source": [
    "A.1 Cepstrum coefficients computation\n",
    "Use the \"a.wav\" file to calculate the coefficients. Follow the steps below:\n",
    "* Load the voice file, \"y\", and the sampling frequency, \"fs\",\n",
    "* Normalize multiplying by 0.99/max(abs(y)),\n",
    "* We will work with a 100ms long frame\n",
    "* P1. How many N samples does the 100ms signal segment correspond\n",
    "to?\n",
    "* Take the N samples corresponding to a frame of 100ms (from sample 512\n",
    "to 512 + N-1).\n",
    "* Window the samples with a Hanning window of the same length. You can\n",
    "make a plot as a function of time to make sure you are taking a segment of\n",
    "the appropriate length.\n",
    "* Calculate the FFT,\n",
    "* Calculate the logarithm of the magnitude of the spectrum,\n",
    "* Calculate the IFFT to obtain the cepstrum coefficients.\n",
    "* P2. Which is the right Python expression for the computation of the\n",
    "cepstral coefficients?"
   ]
  },
  {
   "cell_type": "code",
   "execution_count": null,
   "metadata": {
    "id": "M1nzqRD3LcYo"
   },
   "outputs": [],
   "source": [
    "# Your code here\n",
    "# Use scipy.io.wavfile.read() to read wav file\n",
    "#fs, y = read('sms-tools/sounds/a_new.wav')"
   ]
  },
  {
   "cell_type": "markdown",
   "metadata": {
    "id": "MdAJEG3NLcYo"
   },
   "source": [
    "A.2 Cepstrum coefficients observation\n",
    "The first coefficient is likely to be very large compared to the rest. When you do\n",
    "the plot of P3, just set it to 0 (for the plot only) or zoom in to better observe the\n",
    "values of the rest of the coefficients.\n",
    "* P3. Make the plot of the first half of the coefficients: plot (abs (..)).\n",
    "Does it correspond to a voiced phoneme?"
   ]
  },
  {
   "cell_type": "code",
   "execution_count": null,
   "metadata": {
    "id": "UjlL_z3PLcYp"
   },
   "outputs": [],
   "source": [
    "# Your code here"
   ]
  },
  {
   "cell_type": "markdown",
   "metadata": {
    "id": "u7J9NK__LcYp"
   },
   "source": [
    "A.3 Liftering\n",
    "\n",
    "The term \"liftering\" refers to the filtering in the domain of the cepstrum to\n",
    "separately observe the frequency response of the vocal tract filter from the\n",
    "excitation signal:\n",
    "\n",
    "• P4. What could we calculate from the spectrum of vocal tract? And\n",
    "what can we calculate from the parameters of the excitation signal?"
   ]
  },
  {
   "cell_type": "markdown",
   "metadata": {
    "id": "qVJ8IsHILcYp"
   },
   "source": [
    "To filter the low coefficients (low-pass liftering):\n",
    "\n",
    "• Make a plot of the log of the linear magnitude of the original\n",
    "spectrum. Remember to take half of the spectrum since the spectrum is symmetric.  \n",
    "\n",
    "* Copy the coefficients computed in A.1 to another vector (Use only half of the cepstrum since it is symmetric). Filter the first 20 coefficients (Do this by multiplying it with another vector of 1 values). Compute a linear magnitude of the spectrum (FFT). Remember to use correct FFT size. \n",
    " \n",
    "\n",
    "* P5. Which is the right Python expression for the computation of the\n",
    "low pass liftered spectrum?"
   ]
  },
  {
   "cell_type": "markdown",
   "metadata": {
    "id": "yf_Tv9AaLcYp"
   },
   "source": [
    "\n",
    "• Repeat the last 2 steps with 40 and 5 coefficients, obtaining 1 single plot\n",
    "with the 4 curves obtained from 20, 40 and 5 coefficients plus the original\n",
    "one.\n",
    "\n",
    "• P6. To which spectrum does each curve correspond to?"
   ]
  },
  {
   "cell_type": "markdown",
   "metadata": {
    "id": "JvvH5z5MLcYq"
   },
   "source": [
    "To filter the high coefficients (high-pass liftering):\n",
    "\n",
    "• Load half of the coefficients in section A.1, setting the first 20 coefficients\n",
    "to 0.\n",
    "\n",
    "• P7. Which is the right Python expression for the computation of the\n",
    "position of the maximum position in the high pass liftered cepstrum?\n",
    "\n",
    "• P8. To what frequency corresponds? To convert from ceptrum to\n",
    "frecuency, apply (to the position found in section P7) the same operation\n",
    "applied when converting from samples to time. What varies is the\n",
    "interpretation, where what we will get will be the fundamental period of\n",
    "the signal."
   ]
  },
  {
   "cell_type": "code",
   "execution_count": null,
   "metadata": {
    "id": "VUiiZ_vVLcYq"
   },
   "outputs": [],
   "source": [
    "#Your code here"
   ]
  },
  {
   "cell_type": "code",
   "execution_count": null,
   "metadata": {
    "id": "ygCVOeSiLcYq"
   },
   "outputs": [],
   "source": []
  }
 ],
 "metadata": {
  "colab": {
   "name": "Cepstrum_Coefficient_Notebook.ipynb",
   "provenance": [],
   "toc_visible": true
  },
  "kernelspec": {
   "display_name": "Python 3 (ipykernel)",
   "language": "python",
   "name": "python3"
  },
  "language_info": {
   "codemirror_mode": {
    "name": "ipython",
    "version": 3
   },
   "file_extension": ".py",
   "mimetype": "text/x-python",
   "name": "python",
   "nbconvert_exporter": "python",
   "pygments_lexer": "ipython3",
   "version": "3.11.2"
  }
 },
 "nbformat": 4,
 "nbformat_minor": 4
}
